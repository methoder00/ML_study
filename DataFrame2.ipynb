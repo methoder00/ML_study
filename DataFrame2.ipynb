{
 "cells": [
  {
   "cell_type": "markdown",
   "id": "a7ce3855",
   "metadata": {},
   "source": [
    "# Functions"
   ]
  },
  {
   "cell_type": "code",
   "execution_count": 8,
   "id": "2a73fed0",
   "metadata": {},
   "outputs": [],
   "source": [
    "import pandas as pd\n",
    "import numpy as np"
   ]
  },
  {
   "cell_type": "code",
   "execution_count": 10,
   "id": "db0ee9c4",
   "metadata": {},
   "outputs": [
    {
     "name": "stdout",
     "output_type": "stream",
     "text": [
      "      col1  col2  col3\n",
      "row1     1     2     3\n",
      "row2     4     5     6\n",
      "row3     7     8     9\n"
     ]
    }
   ],
   "source": [
    "col = ['col1','col2','col3']\n",
    "row = ['row1','row2','row3']\n",
    "data = [[1,2,3],[4,5,6],[7,8,9]]\n",
    "df = pd.DataFrame(data=data,index=row,columns=col)\n",
    "print(df)"
   ]
  },
  {
   "cell_type": "markdown",
   "id": "a8f8bcbe",
   "metadata": {},
   "source": [
    "### Apply : row or column 대상 함수 적용"
   ]
  },
  {
   "cell_type": "code",
   "execution_count": 11,
   "id": "8870ee06",
   "metadata": {},
   "outputs": [
    {
     "name": "stdout",
     "output_type": "stream",
     "text": [
      "col1    12\n",
      "col2    15\n",
      "col3    18\n",
      "dtype: int64\n"
     ]
    }
   ],
   "source": [
    "print(df.apply(np.sum))"
   ]
  },
  {
   "cell_type": "code",
   "execution_count": 12,
   "id": "8f3b9f26",
   "metadata": {},
   "outputs": [
    {
     "name": "stdout",
     "output_type": "stream",
     "text": [
      "          col1      col2      col3\n",
      "row1  1.000000  1.414214  1.732051\n",
      "row2  2.000000  2.236068  2.449490\n",
      "row3  2.645751  2.828427  3.000000\n"
     ]
    }
   ],
   "source": [
    "print(df.apply(np.sqrt))"
   ]
  },
  {
   "cell_type": "code",
   "execution_count": 17,
   "id": "fce0d8fd",
   "metadata": {},
   "outputs": [
    {
     "name": "stdout",
     "output_type": "stream",
     "text": [
      "row1      6\n",
      "row2    120\n",
      "row3    504\n",
      "dtype: int64\n"
     ]
    }
   ],
   "source": [
    "print(df.apply(np.prod,axis=1))"
   ]
  },
  {
   "cell_type": "code",
   "execution_count": 18,
   "id": "e03ddb72",
   "metadata": {},
   "outputs": [
    {
     "name": "stdout",
     "output_type": "stream",
     "text": [
      "      col1  col2  col3\n",
      "row1     1     1     1\n",
      "row2     2     2     2\n",
      "row3     3     3     3\n"
     ]
    }
   ],
   "source": [
    "print(df.apply(lambda x : [1,2,3])) # series 로 정보를 주고 받음"
   ]
  },
  {
   "cell_type": "markdown",
   "id": "d4cc6b53",
   "metadata": {},
   "source": [
    "### applymap : 각 요소에 함수 적용"
   ]
  },
  {
   "cell_type": "code",
   "execution_count": 19,
   "id": "a407ef91",
   "metadata": {},
   "outputs": [
    {
     "name": "stdout",
     "output_type": "stream",
     "text": [
      "      col1  col2  col3\n",
      "row1     1     2     3\n",
      "row2     4     5     6\n",
      "row3     7     8     9\n"
     ]
    }
   ],
   "source": [
    "print(df.applymap(np.prod)) #series 대상으로 연산하지 않음!"
   ]
  },
  {
   "cell_type": "code",
   "execution_count": 20,
   "id": "a5bb05ab",
   "metadata": {},
   "outputs": [
    {
     "name": "stdout",
     "output_type": "stream",
     "text": [
      "      col1  col2  col3\n",
      "row1     1     4     9\n",
      "row2    16    25    36\n",
      "row3    49    64    81\n"
     ]
    }
   ],
   "source": [
    "print(df.applymap(lambda x : x**2))"
   ]
  },
  {
   "cell_type": "markdown",
   "id": "444ad073",
   "metadata": {},
   "source": [
    "### pipe : arranged convolution function"
   ]
  },
  {
   "cell_type": "code",
   "execution_count": 22,
   "id": "38a3422c",
   "metadata": {},
   "outputs": [],
   "source": [
    "def a(x):\n",
    "    y = x**2\n",
    "    return y\n",
    "\n",
    "def b(x):\n",
    "    y = x+2\n",
    "    return y"
   ]
  },
  {
   "cell_type": "code",
   "execution_count": 24,
   "id": "08eddcb7",
   "metadata": {},
   "outputs": [
    {
     "name": "stdout",
     "output_type": "stream",
     "text": [
      "      col1  col2  col3\n",
      "row1     3     6    11\n",
      "row2    18    27    38\n",
      "row3    51    66    83\n"
     ]
    }
   ],
   "source": [
    "print(df.pipe(a).pipe(b))"
   ]
  },
  {
   "cell_type": "markdown",
   "id": "2c7cd1fd",
   "metadata": {},
   "source": [
    "### aggregate(agg) : 여러 함수 적용해 축 별 변경"
   ]
  },
  {
   "cell_type": "code",
   "execution_count": 48,
   "id": "23013296",
   "metadata": {},
   "outputs": [
    {
     "name": "stdout",
     "output_type": "stream",
     "text": [
      "        A  B  C\n",
      "test1  10  8  9\n",
      "test2   4  8  6\n",
      "test3   9  8  4\n"
     ]
    }
   ],
   "source": [
    "data=[[10,8,9],[4,8,6],[9,8,4]]\n",
    "col = ['A','B','C']\n",
    "row = ['test1','test2','test3']\n",
    "df = pd.DataFrame(data=data,index=row,columns=col)\n",
    "print(df)"
   ]
  },
  {
   "cell_type": "code",
   "execution_count": 50,
   "id": "5fcd144d",
   "metadata": {},
   "outputs": [
    {
     "name": "stdout",
     "output_type": "stream",
     "text": [
      "              A     B          C\n",
      "mean   7.666667   8.0   6.333333\n",
      "sum   23.000000  24.0  19.000000\n",
      "max   10.000000   8.0   9.000000\n",
      "min    4.000000   8.0   4.000000\n"
     ]
    }
   ],
   "source": [
    "x2 = df.agg(['mean','sum','max','min'])  # index : 문자열 list 형태로 제시\n",
    "print(x2)"
   ]
  },
  {
   "cell_type": "markdown",
   "id": "83cb8fcc",
   "metadata": {},
   "source": [
    "### transfrom : 여러 함수 호출해 요소별 변경"
   ]
  },
  {
   "cell_type": "code",
   "execution_count": 53,
   "id": "d903587d",
   "metadata": {},
   "outputs": [
    {
     "name": "stdout",
     "output_type": "stream",
     "text": [
      "              A                  B                 C         \n",
      "           sqrt <lambda>      sqrt <lambda>     sqrt <lambda>\n",
      "test1  3.162278       12  2.828427       10  3.00000       11\n",
      "test2  2.000000        6  2.828427       10  2.44949        8\n",
      "test3  3.000000       11  2.828427       10  2.00000        6\n"
     ]
    }
   ],
   "source": [
    "x2 = df.transform(['sqrt',lambda x:x+2])\n",
    "print(x2)"
   ]
  },
  {
   "cell_type": "markdown",
   "id": "0e8564bf",
   "metadata": {},
   "source": [
    "### eval : 문자열 계산식 적용"
   ]
  },
  {
   "cell_type": "code",
   "execution_count": 56,
   "id": "75dce43d",
   "metadata": {},
   "outputs": [
    {
     "name": "stdout",
     "output_type": "stream",
     "text": [
      "        A  B  C  SUM\n",
      "test1  10  8  9   27\n",
      "test2   4  8  6   18\n",
      "test3   9  8  4   21\n"
     ]
    }
   ],
   "source": [
    "print(df.eval('SUM=A+B+C'))  # Columns 들에 대한 문자열만 계산가능 : row 계산하고 싶으면 transpose하면 될듯?"
   ]
  },
  {
   "cell_type": "markdown",
   "id": "19cbe48a",
   "metadata": {},
   "source": [
    "### # inplace : return / void type 결정"
   ]
  },
  {
   "cell_type": "code",
   "execution_count": 57,
   "id": "2ce8235c",
   "metadata": {},
   "outputs": [
    {
     "name": "stdout",
     "output_type": "stream",
     "text": [
      "        A  B  C\n",
      "test1  10  8  9\n",
      "test2   4  8  6\n",
      "test3   9  8  4\n"
     ]
    }
   ],
   "source": [
    "print(df)"
   ]
  },
  {
   "cell_type": "code",
   "execution_count": 60,
   "id": "c4bab352",
   "metadata": {},
   "outputs": [
    {
     "name": "stdout",
     "output_type": "stream",
     "text": [
      "None\n"
     ]
    }
   ],
   "source": [
    "print(df.eval('sum=A+B+C', inplace=True)) # Void type : no return"
   ]
  },
  {
   "cell_type": "code",
   "execution_count": 62,
   "id": "9562324b",
   "metadata": {},
   "outputs": [
    {
     "name": "stdout",
     "output_type": "stream",
     "text": [
      "        A  B  C  sum\n",
      "test1  10  8  9   27\n",
      "test2   4  8  6   18\n",
      "test3   9  8  4   21\n"
     ]
    }
   ],
   "source": [
    "print(df)                                 # Void > df modified"
   ]
  },
  {
   "cell_type": "markdown",
   "id": "1c31e238",
   "metadata": {},
   "source": [
    "# Indexing"
   ]
  },
  {
   "cell_type": "markdown",
   "id": "0327fb1a",
   "metadata": {},
   "source": [
    "### at : 요소 기준 반환"
   ]
  },
  {
   "cell_type": "code",
   "execution_count": 63,
   "id": "2e1b95fc",
   "metadata": {},
   "outputs": [
    {
     "name": "stdout",
     "output_type": "stream",
     "text": [
      "        A  B  C  sum\n",
      "test1  10  8  9   27\n",
      "test2   4  8  6   18\n",
      "test3   9  8  4   21\n"
     ]
    }
   ],
   "source": [
    "print(df)"
   ]
  },
  {
   "cell_type": "code",
   "execution_count": 64,
   "id": "9ccfbdbd",
   "metadata": {},
   "outputs": [
    {
     "name": "stdout",
     "output_type": "stream",
     "text": [
      "27\n"
     ]
    }
   ],
   "source": [
    "print(df.at['test1','sum'])"
   ]
  },
  {
   "cell_type": "code",
   "execution_count": 71,
   "id": "b45b55fe",
   "metadata": {},
   "outputs": [],
   "source": [
    "df.at['test1','A'] = 9"
   ]
  },
  {
   "cell_type": "code",
   "execution_count": 72,
   "id": "c51060c3",
   "metadata": {},
   "outputs": [
    {
     "name": "stdout",
     "output_type": "stream",
     "text": [
      "       A  B  C  sum\n",
      "test1  9  8  9   27\n",
      "test2  4  8  6   18\n",
      "test3  9  8  4   21\n"
     ]
    }
   ],
   "source": [
    "print(df)               #sum은 연산된 값을 저장했으니 변하지 않음"
   ]
  },
  {
   "cell_type": "markdown",
   "id": "8d62f44d",
   "metadata": {},
   "source": [
    "### loc : dataframe, series 형태 반환 (row 기준)"
   ]
  },
  {
   "cell_type": "code",
   "execution_count": 91,
   "id": "665effe2",
   "metadata": {},
   "outputs": [
    {
     "name": "stdout",
     "output_type": "stream",
     "text": [
      "A       9\n",
      "B       8\n",
      "C       9\n",
      "sum    26\n",
      "Name: test1, dtype: int64\n"
     ]
    }
   ],
   "source": [
    "print(df.loc['test1'])    #series 반환"
   ]
  },
  {
   "cell_type": "code",
   "execution_count": 92,
   "id": "6bec0744",
   "metadata": {},
   "outputs": [
    {
     "name": "stdout",
     "output_type": "stream",
     "text": [
      "       A  B  C  sum\n",
      "test1  9  8  9   26\n",
      "test2  4  8  6   18\n"
     ]
    }
   ],
   "source": [
    "print(df.loc[['test1','test2']])   #DataFrame 반환 : 여러 row"
   ]
  },
  {
   "cell_type": "code",
   "execution_count": 93,
   "id": "5fd08a16",
   "metadata": {},
   "outputs": [
    {
     "name": "stdout",
     "output_type": "stream",
     "text": [
      "9\n"
     ]
    }
   ],
   "source": [
    "print(df.loc['test1','A'])        #요소 반환도 가능 (=at)"
   ]
  },
  {
   "cell_type": "markdown",
   "id": "d3498904",
   "metadata": {},
   "source": [
    "# Data Structure에 대해\n",
    "\n",
    "공부하는 함수들 중 행이나 열 중 하나에만 적용되는 함수들이 존재하고, 이러한 존재는 데이터를 정렬하는 것에 있어서 통상적인 방법이 존재함을 의미한다. 예를 들어 방금 진행한 loc함수의 경우는 값을 반환하는 것에 있어서 row를 기준으로 값을 반환하고, 이전의 eval 함수의 경우는 column을 기준으로만 문자열 연산을 지원한다.\n",
    "\n",
    "dataset은 기본적으로 한 객체에 대한 여러 정보들을 담은 단위들의 나열로 인식을 할 수 있다.\n",
    "그렇다면 우리가 loc를 통해 row 단위로 정보를 뽑는 경우,\n",
    "1) row가 한 객체의 정보를 포함하고 있는 것\n",
    "\n",
    "2) row가 모든 객체의 하나의 정보를 포함하고 있는 것\n",
    "중 무엇이 더 적절할 것인가?\n",
    "\n",
    "eval 을 통해 각 column간의 연산을 진행한다고 하면, \n",
    "1) column이 정보를 의미해 정보간의 연산을 진행하는것\n",
    "\n",
    "2) column이 객채를 의미해 객체간의 연산을 진행하는것\n",
    "중 무엇이 더 적절한 것인가?\n",
    "\n",
    "data analysis의 시각에서의 적절함을 EDA에 적절하다라는 말에 연결지어 본다면\n",
    "지금의 시각으론 전자의 경우가 보다 유용해보인다.\n"
   ]
  },
  {
   "cell_type": "code",
   "execution_count": 95,
   "id": "96feb053",
   "metadata": {},
   "outputs": [
    {
     "name": "stdout",
     "output_type": "stream",
     "text": [
      "        A  B  C\n",
      "test1  10  8  9\n",
      "test2   4  8  6\n",
      "test3   9  8  4\n"
     ]
    }
   ],
   "source": [
    "data=[[10,8,9],[4,8,6],[9,8,4]]\n",
    "col = ['A','B','C']\n",
    "row = ['test1','test2','test3']\n",
    "df1 = pd.DataFrame(data=data,index=row,columns=col)\n",
    "print(df1)"
   ]
  },
  {
   "cell_type": "code",
   "execution_count": 98,
   "id": "761ebd47",
   "metadata": {},
   "outputs": [
    {
     "name": "stdout",
     "output_type": "stream",
     "text": [
      "   test1  test2  test3\n",
      "A     10      8      9\n",
      "B      4      8      6\n",
      "C      9      8      4\n"
     ]
    }
   ],
   "source": [
    "data=[[10,8,9],[4,8,6],[9,8,4]]\n",
    "row = ['A','B','C']\n",
    "col = ['test1','test2','test3']\n",
    "df2 = pd.DataFrame(data=data,index=row,columns=col)\n",
    "print(df2)"
   ]
  },
  {
   "cell_type": "markdown",
   "id": "3f3a2752",
   "metadata": {},
   "source": [
    "즉 df2가 df1보다 유용해보인다."
   ]
  },
  {
   "cell_type": "markdown",
   "id": "12a67e99",
   "metadata": {},
   "source": [
    "### iat : integer at, iloc : integer loc"
   ]
  },
  {
   "cell_type": "code",
   "execution_count": 99,
   "id": "6a703d1f",
   "metadata": {},
   "outputs": [
    {
     "name": "stdout",
     "output_type": "stream",
     "text": [
      "   test1  test2  test3\n",
      "A     10      8      9\n",
      "B      4      8      6\n",
      "C      9      8      4\n"
     ]
    }
   ],
   "source": [
    "print(df2)"
   ]
  },
  {
   "cell_type": "code",
   "execution_count": 101,
   "id": "3b69a893",
   "metadata": {},
   "outputs": [
    {
     "name": "stdout",
     "output_type": "stream",
     "text": [
      "6\n"
     ]
    }
   ],
   "source": [
    "print(df2.iat[1,2]) #(2행 3열)"
   ]
  },
  {
   "cell_type": "code",
   "execution_count": 104,
   "id": "268ac394",
   "metadata": {},
   "outputs": [
    {
     "name": "stdout",
     "output_type": "stream",
     "text": [
      "   test1  test2  test3\n",
      "A     10      8      9\n",
      "C      9      8      4\n"
     ]
    }
   ],
   "source": [
    "print(df2.iloc[[0,2]])"
   ]
  },
  {
   "cell_type": "code",
   "execution_count": 110,
   "id": "67d2fb34",
   "metadata": {},
   "outputs": [
    {
     "name": "stdout",
     "output_type": "stream",
     "text": [
      "   test1  test2  test3\n",
      "A     10      8      9\n",
      "B      4      8      6\n"
     ]
    }
   ],
   "source": [
    "print(df2.iloc[0:2])     #slice"
   ]
  },
  {
   "cell_type": "markdown",
   "id": "d24cacab",
   "metadata": {},
   "source": [
    "### head : n row from top   //   tail : n row from bottom"
   ]
  },
  {
   "cell_type": "code",
   "execution_count": 112,
   "id": "3080a33b",
   "metadata": {},
   "outputs": [
    {
     "name": "stdout",
     "output_type": "stream",
     "text": [
      "   test1  test2  test3\n",
      "A     10      8      9\n",
      "B      4      8      6\n"
     ]
    }
   ],
   "source": [
    "print(df2.head(n=2))"
   ]
  },
  {
   "cell_type": "code",
   "execution_count": 113,
   "id": "4185e272",
   "metadata": {},
   "outputs": [
    {
     "name": "stdout",
     "output_type": "stream",
     "text": [
      "   test1  test2  test3\n",
      "A     10      8      9\n",
      "B      4      8      6\n"
     ]
    }
   ],
   "source": [
    "print(df.head(n=-1))"
   ]
  },
  {
   "cell_type": "code",
   "execution_count": 115,
   "id": "fdee580b",
   "metadata": {},
   "outputs": [
    {
     "name": "stdout",
     "output_type": "stream",
     "text": [
      "   test1  test2  test3\n",
      "B      4      8      6\n",
      "C      9      8      4\n"
     ]
    }
   ],
   "source": [
    "print(df.tail(n=2))"
   ]
  },
  {
   "cell_type": "markdown",
   "id": "48d62a99",
   "metadata": {},
   "source": [
    "### multi_index"
   ]
  },
  {
   "cell_type": "code",
   "execution_count": 117,
   "id": "79b455df",
   "metadata": {},
   "outputs": [
    {
     "name": "stdout",
     "output_type": "stream",
     "text": [
      "        test1  test2  test3\n",
      "a 2019    100    100    100\n",
      "  2020     90     90     90\n",
      "b 2019    100     90     80\n",
      "  2020     80     90    100\n",
      "c 2019     50     70     90\n",
      "  2020    100    100    100\n"
     ]
    }
   ],
   "source": [
    "#multi_index\n",
    "index_tuples = [('a','2019'),('a','2020'),('b','2019'),('b','2020'),('c','2019'),('c','2020')]\n",
    "index = pd.MultiIndex.from_tuples(index_tuples)\n",
    "col = ['test1','test2','test3']\n",
    "data = [[100,100,100],[90,90,90],[100,90,80],[80,90,100],[50,70,90],[100,100,100]]\n",
    "df=pd.DataFrame(data=data,columns=col,index=index)\n",
    "print(df)"
   ]
  },
  {
   "cell_type": "code",
   "execution_count": 126,
   "id": "a6a444bc",
   "metadata": {},
   "outputs": [
    {
     "name": "stdout",
     "output_type": "stream",
     "text": [
      "      test1  test2  test3\n",
      "2019    100    100    100\n",
      "2020     90     90     90\n"
     ]
    }
   ],
   "source": [
    "print(df.loc['a'])"
   ]
  },
  {
   "cell_type": "code",
   "execution_count": 131,
   "id": "74776bb8",
   "metadata": {},
   "outputs": [
    {
     "name": "stdout",
     "output_type": "stream",
     "text": [
      "test1    90\n",
      "test2    90\n",
      "test3    90\n",
      "Name: (a, 2020), dtype: int64\n"
     ]
    }
   ],
   "source": [
    "print(df.loc['a','2020'])    #단일 리스트 형태면 series 반환"
   ]
  },
  {
   "cell_type": "code",
   "execution_count": 132,
   "id": "c503c4d2",
   "metadata": {},
   "outputs": [
    {
     "name": "stdout",
     "output_type": "stream",
     "text": [
      "        test1  test2  test3\n",
      "a 2020     90     90     90\n"
     ]
    }
   ],
   "source": [
    "print(df.loc[[('a','2020')]])  #이중 리스트 형태면 dataframe 반환"
   ]
  },
  {
   "cell_type": "code",
   "execution_count": 134,
   "id": "7ec178de",
   "metadata": {},
   "outputs": [
    {
     "name": "stdout",
     "output_type": "stream",
     "text": [
      "        test1  test2  test3\n",
      "a 2020     90     90     90\n",
      "b 2019    100     90     80\n",
      "  2020     80     90    100\n"
     ]
    }
   ],
   "source": [
    "print(df.loc[('a','2020'):('b','2020')])  #slicing 도 가능"
   ]
  },
  {
   "cell_type": "code",
   "execution_count": null,
   "id": "2c8d07b2",
   "metadata": {},
   "outputs": [],
   "source": []
  }
 ],
 "metadata": {
  "kernelspec": {
   "display_name": "Python 3 (ipykernel)",
   "language": "python",
   "name": "python3"
  },
  "language_info": {
   "codemirror_mode": {
    "name": "ipython",
    "version": 3
   },
   "file_extension": ".py",
   "mimetype": "text/x-python",
   "name": "python",
   "nbconvert_exporter": "python",
   "pygments_lexer": "ipython3",
   "version": "3.9.13"
  }
 },
 "nbformat": 4,
 "nbformat_minor": 5
}
