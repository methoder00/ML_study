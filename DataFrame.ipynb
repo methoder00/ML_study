{
 "cells": [
  {
   "cell_type": "markdown",
   "id": "5c406299",
   "metadata": {},
   "source": [
    "# DataFrame of Pandas"
   ]
  },
  {
   "cell_type": "code",
   "execution_count": 54,
   "id": "05620ae6",
   "metadata": {},
   "outputs": [],
   "source": [
    "import pandas as pd\n",
    "import numpy as np"
   ]
  },
  {
   "cell_type": "markdown",
   "id": "f114686c",
   "metadata": {},
   "source": [
    "## Between Object"
   ]
  },
  {
   "cell_type": "code",
   "execution_count": 7,
   "id": "b7880d91",
   "metadata": {},
   "outputs": [
    {
     "name": "stdout",
     "output_type": "stream",
     "text": [
      "      col1  col2  col3\n",
      "row1     1    10   100\n",
      "row2     2    20   200\n",
      "row3     3    30   300\n"
     ]
    }
   ],
   "source": [
    "data = [[1,10,100],[2,20,200],[3,30,300]]\n",
    "col = ['col1','col2','col3']\n",
    "row = ['row1','row2','row3']\n",
    "df = pd.DataFrame(data = data, index = row, columns=col)\n",
    "print(df)"
   ]
  },
  {
   "cell_type": "markdown",
   "id": "74dfb424",
   "metadata": {},
   "source": [
    "### ADD, SUB"
   ]
  },
  {
   "cell_type": "code",
   "execution_count": 17,
   "id": "c1e47f3f",
   "metadata": {},
   "outputs": [
    {
     "name": "stdout",
     "output_type": "stream",
     "text": [
      "      col1  col2  col3\n",
      "row1     2    11   101\n",
      "row2     3    21   201\n",
      "row3     4    31   301\n",
      "      col1  col2  col3\n",
      "row1     2    11   101\n",
      "row2     3    21   201\n",
      "row3     4    31   301\n"
     ]
    }
   ],
   "source": [
    "#Scalar 연산\n",
    "result = df.add(1)\n",
    "print(result)\n",
    "result = df+1\n",
    "print(result)"
   ]
  },
  {
   "cell_type": "code",
   "execution_count": 18,
   "id": "c983ef25",
   "metadata": {},
   "outputs": [
    {
     "name": "stdout",
     "output_type": "stream",
     "text": [
      "      col1  col2  col3\n",
      "row1   NaN    11   NaN\n",
      "row2   NaN    22   NaN\n",
      "row3   NaN    33   NaN\n",
      "      col1  col2   col3\n",
      "row1   2.0    11  101.0\n",
      "row2   3.0    22  201.0\n",
      "row3   4.0    33  301.0\n"
     ]
    }
   ],
   "source": [
    "#DataFrame 간 연산\n",
    "data2 = [[1],[2],[3]]\n",
    "df2 = pd.DataFrame(data=data2, index=row, columns=['col2'])\n",
    "result = df.add(df2)\n",
    "print(result)\n",
    "result = df.add(df2,fill_value=True)\n",
    "print(result)"
   ]
  },
  {
   "cell_type": "code",
   "execution_count": 21,
   "id": "f03ce4b0",
   "metadata": {},
   "outputs": [
    {
     "name": "stdout",
     "output_type": "stream",
     "text": [
      "      col1  col2   col3\n",
      "row1   0.0    -9  -99.0\n",
      "row2  -1.0   -18 -199.0\n",
      "row3  -2.0   -27 -299.0\n"
     ]
    }
   ],
   "source": [
    "#r_ : 연산 순서 reversed\n",
    "result = df.rsub(df2, fill_value=True)\n",
    "print(result)"
   ]
  },
  {
   "cell_type": "markdown",
   "id": "9cad78a6",
   "metadata": {},
   "source": [
    "### MUL, DIV, MOD"
   ]
  },
  {
   "cell_type": "code",
   "execution_count": 23,
   "id": "367d5780",
   "metadata": {},
   "outputs": [
    {
     "name": "stdout",
     "output_type": "stream",
     "text": [
      "      col1  col2  col3\n",
      "row1     2    20   200\n",
      "row2     4    40   400\n",
      "row3     6    60   600\n",
      "      col1  col2  col3\n",
      "row1     2    20   200\n",
      "row2     4    40   400\n",
      "row3     6    60   600\n"
     ]
    }
   ],
   "source": [
    "#Scalar 연산\n",
    "result=df.mul(2)\n",
    "print(result)\n",
    "result=df*2\n",
    "print(result)"
   ]
  },
  {
   "cell_type": "code",
   "execution_count": 41,
   "id": "15eeb775",
   "metadata": {},
   "outputs": [
    {
     "name": "stdout",
     "output_type": "stream",
     "text": [
      "      col1  col2  col3\n",
      "row1   NaN    10   NaN\n",
      "row2   NaN    40   NaN\n",
      "row3   NaN    90   NaN\n",
      "      col1  col2   col3\n",
      "row1   1.0    10  100.0\n",
      "row2   2.0    40  200.0\n",
      "row3   3.0    90  300.0\n",
      "      col1  col2  col3\n",
      "row1   0.0    10   0.0\n",
      "row2   0.0    40   0.0\n",
      "row3   0.0    90   0.0\n"
     ]
    }
   ],
   "source": [
    "#DataFrame간 연산\n",
    "result=df.mul(df2)\n",
    "print(result)\n",
    "result=df.mul(df2, fill_value=True)  #DataFrame 전체를 사용하고 싶을때\n",
    "print(result)\n",
    "result=df.mul(df2, fill_value=0)     #해당 데이터만 사용하고 싶을때\n",
    "print(result)"
   ]
  },
  {
   "cell_type": "code",
   "execution_count": 39,
   "id": "659f6359",
   "metadata": {},
   "outputs": [
    {
     "name": "stdout",
     "output_type": "stream",
     "text": [
      "      col1  col2   col3\n",
      "row1   1.0  10.0  100.0\n",
      "row2   2.0  10.0  200.0\n",
      "row3   3.0  10.0  300.0\n",
      "      col1  col2   col3\n",
      "row1   1.0     0  100.0\n",
      "row2   2.0     0  200.0\n",
      "row3   3.0     0  300.0\n"
     ]
    }
   ],
   "source": [
    "#div, mod\n",
    "result=df.div(df2,fill_value=True)                   \n",
    "print(result) \n",
    "result=df.mod(df2,fill_value=100000) #각 columns의 maximum 값으로 바꿔줄 수 있으면 좋을 듯\n",
    "print(result)"
   ]
  },
  {
   "cell_type": "markdown",
   "id": "6978b0e3",
   "metadata": {},
   "source": [
    "### POW, DOT"
   ]
  },
  {
   "cell_type": "code",
   "execution_count": 43,
   "id": "b9e996e0",
   "metadata": {},
   "outputs": [
    {
     "name": "stdout",
     "output_type": "stream",
     "text": [
      "      col1   col2   col3\n",
      "row1   1.0     10  100.0\n",
      "row2   2.0    400  200.0\n",
      "row3   3.0  27000  300.0\n"
     ]
    }
   ],
   "source": [
    "#pow\n",
    "result=df.pow(df2,fill_value=True)\n",
    "print(result)"
   ]
  },
  {
   "cell_type": "code",
   "execution_count": 51,
   "id": "38df3aad",
   "metadata": {},
   "outputs": [
    {
     "name": "stdout",
     "output_type": "stream",
     "text": [
      "   0  1\n",
      "0  1  2\n",
      "1  3  4\n",
      "   0  1\n",
      "0  5  6\n",
      "1  7  8\n"
     ]
    }
   ],
   "source": [
    "#dot : Matrix multiplication\n",
    "# col = ['col1','col2']\n",
    "# row = ['row1','row2']\n",
    "# col, row 표현되어 있으면 진행 안됨\n",
    "data1 = [[1,2],[3,4]]\n",
    "data2 = [[5,6],[7,8]]\n",
    "df1 = pd.DataFrame(data=data1)\n",
    "df2 = pd.DataFrame(data=data2)\n",
    "print(df1)\n",
    "print(df2)"
   ]
  },
  {
   "cell_type": "code",
   "execution_count": 52,
   "id": "1c22ae3c",
   "metadata": {},
   "outputs": [
    {
     "name": "stdout",
     "output_type": "stream",
     "text": [
      "    0   1\n",
      "0  19  22\n",
      "1  43  50\n"
     ]
    }
   ],
   "source": [
    "result=df1.dot(df2)\n",
    "print(result)"
   ]
  },
  {
   "cell_type": "markdown",
   "id": "cb6431cc",
   "metadata": {},
   "source": [
    "## In Object"
   ]
  },
  {
   "cell_type": "markdown",
   "id": "71137052",
   "metadata": {},
   "source": [
    "### Round"
   ]
  },
  {
   "cell_type": "code",
   "execution_count": 55,
   "id": "3d2a01a5",
   "metadata": {
    "scrolled": true
   },
   "outputs": [
    {
     "name": "stdout",
     "output_type": "stream",
     "text": [
      "           col1       col2       col3\n",
      "row1   5.906080  50.423048  50.873390\n",
      "row2  42.119164  42.987631  60.157445\n",
      "row3  44.738857  55.760809  45.756463\n"
     ]
    }
   ],
   "source": [
    "col = ['col1','col2','col3']\n",
    "row = ['row1','row2','row3']\n",
    "data = np.random.rand(3,3)*100\n",
    "df = pd.DataFrame(data=data, index=row, columns=col)\n",
    "print(df)"
   ]
  },
  {
   "cell_type": "code",
   "execution_count": 57,
   "id": "b9d9625a",
   "metadata": {},
   "outputs": [
    {
     "name": "stdout",
     "output_type": "stream",
     "text": [
      "      col1  col2  col3\n",
      "row1   5.9  50.4  50.9\n",
      "row2  42.1  43.0  60.2\n",
      "row3  44.7  55.8  45.8\n",
      "      col1  col2  col3\n",
      "row1   6.0  50.0  51.0\n",
      "row2  42.0  43.0  60.0\n",
      "row3  45.0  56.0  46.0\n",
      "      col1  col2  col3\n",
      "row1  10.0  50.0  50.0\n",
      "row2  40.0  40.0  60.0\n",
      "row3  40.0  60.0  50.0\n"
     ]
    }
   ],
   "source": [
    "print(df.round(1))\n",
    "print(df.round(0))\n",
    "print(df.round(-1))"
   ]
  },
  {
   "cell_type": "markdown",
   "id": "4149f8fa",
   "metadata": {},
   "source": [
    "### SUM : 해당 행(열)의 합 , PROD : 해당 행(열)의 곱"
   ]
  },
  {
   "cell_type": "code",
   "execution_count": 58,
   "id": "82edc234",
   "metadata": {},
   "outputs": [
    {
     "name": "stdout",
     "output_type": "stream",
     "text": [
      "      col1  col2  col3\n",
      "row1     1   2.0     3\n",
      "row2     4   5.0     6\n",
      "row3     7   NaN     9\n"
     ]
    }
   ],
   "source": [
    "col = ['col1','col2','col3']\n",
    "row = ['row1','row2','row3']\n",
    "data = [[1,2,3],[4,5,6],[7,np.NaN,9]]\n",
    "df = pd.DataFrame(data=data,index=row,columns=col)\n",
    "print(df)"
   ]
  },
  {
   "cell_type": "code",
   "execution_count": 59,
   "id": "0166824b",
   "metadata": {},
   "outputs": [
    {
     "name": "stdout",
     "output_type": "stream",
     "text": [
      "col1    12.0\n",
      "col2     7.0\n",
      "col3    18.0\n",
      "dtype: float64\n"
     ]
    }
   ],
   "source": [
    "print(df.sum(axis=0)) #행 방향 덧셈 > 열 표시\n",
    "print(df.sum(axis=1))"
   ]
  },
  {
   "cell_type": "code",
   "execution_count": 63,
   "id": "8ae4cbd3",
   "metadata": {},
   "outputs": [
    {
     "name": "stdout",
     "output_type": "stream",
     "text": [
      "col1    12.0\n",
      "col2     NaN\n",
      "col3    18.0\n",
      "dtype: float64\n"
     ]
    }
   ],
   "source": [
    "print(df.sum(axis=0,skipna=False)) #NaN값을 0으로 치환하지 않음 : NaN이 있으면 쓸모없는 데이터 일 경우"
   ]
  },
  {
   "cell_type": "code",
   "execution_count": 64,
   "id": "65b99a8c",
   "metadata": {},
   "outputs": [
    {
     "name": "stdout",
     "output_type": "stream",
     "text": [
      "col1    12.0\n",
      "col2     NaN\n",
      "col3    18.0\n",
      "dtype: float64\n"
     ]
    }
   ],
   "source": [
    "print(df.sum(axis=0,min_count=3)) #value가 3개 미만일 경우 NaN 출력 : 소량의 데이터일 경우 쓸모 없을 경우"
   ]
  },
  {
   "cell_type": "code",
   "execution_count": 65,
   "id": "adec0a33",
   "metadata": {},
   "outputs": [
    {
     "name": "stdout",
     "output_type": "stream",
     "text": [
      "col1     28.0\n",
      "col2     10.0\n",
      "col3    162.0\n",
      "dtype: float64\n"
     ]
    }
   ],
   "source": [
    "#PROD : 곱\n",
    "print(df.prod(axis=0))\n",
    "#곱셈의 경우 skipna가 NaN 을 1로 치환"
   ]
  },
  {
   "cell_type": "markdown",
   "id": "afd672bb",
   "metadata": {},
   "source": [
    "### ABS : Absolute Value 반환, Transpose"
   ]
  },
  {
   "cell_type": "code",
   "execution_count": 66,
   "id": "e42d176c",
   "metadata": {},
   "outputs": [
    {
     "name": "stdout",
     "output_type": "stream",
     "text": [
      "      col1  col2      col3\n",
      "row1    -1   2.0 -3.5+0.0j\n",
      "row2     4  -5.5  3.0+4.0j\n",
      "row3     7   NaN  0.0+0.0j\n"
     ]
    }
   ],
   "source": [
    "col = ['col1','col2','col3']\n",
    "row = ['row1','row2','row3']\n",
    "data = [[-1,2,-3.5],[4,-5.5, 3+4j],[7,np.NaN,0]]\n",
    "df = pd.DataFrame(data=data,index=row,columns=col)\n",
    "print(df)"
   ]
  },
  {
   "cell_type": "code",
   "execution_count": 67,
   "id": "cfaea4bf",
   "metadata": {},
   "outputs": [
    {
     "name": "stdout",
     "output_type": "stream",
     "text": [
      "      col1  col2  col3\n",
      "row1     1   2.0   3.5\n",
      "row2     4   5.5   5.0\n",
      "row3     7   NaN   0.0\n"
     ]
    }
   ],
   "source": [
    "print(df.abs())"
   ]
  },
  {
   "cell_type": "code",
   "execution_count": 69,
   "id": "f588d107",
   "metadata": {},
   "outputs": [
    {
     "name": "stdout",
     "output_type": "stream",
     "text": [
      "     col1  col2  col3\n",
      "row1    A     1     2\n",
      "row2    B     3     4\n",
      "row3    C     5     6\n",
      "row4    D     7     8\n"
     ]
    }
   ],
   "source": [
    "col = ['col1','col2','col3']\n",
    "row = ['row1','row2','row3','row4']\n",
    "data = [['A',1,2],['B',3,4],['C',5,6],['D',7,8]]\n",
    "df = pd.DataFrame(data=data,index=row,columns=col)\n",
    "print(df)"
   ]
  },
  {
   "cell_type": "code",
   "execution_count": 70,
   "id": "ba4f21c1",
   "metadata": {},
   "outputs": [
    {
     "name": "stdout",
     "output_type": "stream",
     "text": [
      "     row1 row2 row3 row4\n",
      "col1    A    B    C    D\n",
      "col2    1    3    5    7\n",
      "col3    2    4    6    8\n"
     ]
    }
   ],
   "source": [
    "print(df.transpose())"
   ]
  },
  {
   "cell_type": "markdown",
   "id": "eaf41971",
   "metadata": {},
   "source": [
    "### RANK"
   ]
  },
  {
   "cell_type": "code",
   "execution_count": 80,
   "id": "f73db23b",
   "metadata": {},
   "outputs": [
    {
     "name": "stdout",
     "output_type": "stream",
     "text": [
      "   test1\n",
      "a   80.0\n",
      "b   50.0\n",
      "c   50.0\n",
      "d  100.0\n",
      "e   90.0\n",
      "f    NaN\n"
     ]
    }
   ],
   "source": [
    "row = ['a','b','c','d','e','f']\n",
    "col = ['test1']\n",
    "data = [[80],[50],[50],[100],[90],[np.NaN]]\n",
    "df = pd.DataFrame(data=data, index=row, columns=col)\n",
    "print(df)"
   ]
  },
  {
   "cell_type": "code",
   "execution_count": 81,
   "id": "a5ffd1a6",
   "metadata": {},
   "outputs": [
    {
     "name": "stdout",
     "output_type": "stream",
     "text": [
      "   test1  average\n",
      "a   80.0      3.0\n",
      "b   50.0      1.5\n",
      "c   50.0      1.5\n",
      "d  100.0      5.0\n",
      "e   90.0      4.0\n",
      "f    NaN      NaN\n"
     ]
    }
   ],
   "source": [
    "df['average']=df['test1'].rank(method='average') #method : 동점자 처리 방법 (average, min, max, first, dense)\n",
    "print(df)\n",
    "\n",
    "# df['column'] = 으로 간단하게 df에 columns 추가 가능"
   ]
  },
  {
   "cell_type": "code",
   "execution_count": 86,
   "id": "0fefb937",
   "metadata": {},
   "outputs": [
    {
     "name": "stdout",
     "output_type": "stream",
     "text": [
      "   test1  average  average_nan\n",
      "a   80.0      3.0          0.4\n",
      "b   50.0      1.5          0.2\n",
      "c   50.0      1.5          0.2\n",
      "d  100.0      5.0          0.8\n",
      "e   90.0      4.0          0.6\n",
      "f    NaN      NaN          1.0\n"
     ]
    }
   ],
   "source": [
    "df['average_nan']=df['test1'].rank(method='dense', na_option='bottom', pct=True) \n",
    "print(df)\n",
    "#NaN 처리 방법 : top(1등),bottom(꼴등),keep(NaN)\n",
    "#pct=True > 백분위수 표기"
   ]
  },
  {
   "cell_type": "markdown",
   "id": "3d4477d2",
   "metadata": {},
   "source": [
    "### DIFF"
   ]
  },
  {
   "cell_type": "code",
   "execution_count": 87,
   "id": "4b9c508c",
   "metadata": {},
   "outputs": [
    {
     "name": "stdout",
     "output_type": "stream",
     "text": [
      "   col1  col2  col3\n",
      "0     1     1     8\n",
      "1     2     2     7\n",
      "2     3     4     6\n",
      "3     4     8     5\n",
      "4     5    16     4\n",
      "5     6    32     3\n",
      "6     7    64     2\n",
      "7     8   128     1\n"
     ]
    }
   ],
   "source": [
    "a = [1,2,3,4,5,6,7,8]\n",
    "b = [1,2,4,8,16,32,64,128]\n",
    "c = [8,7,6,5,4,3,2,1]\n",
    "data = {\"col1\":a,\"col2\":b,\"col3\":c}\n",
    "df = pd.DataFrame(data)\n",
    "print(df)"
   ]
  },
  {
   "cell_type": "code",
   "execution_count": 90,
   "id": "0ec2906a",
   "metadata": {},
   "outputs": [
    {
     "name": "stdout",
     "output_type": "stream",
     "text": [
      "   col1  col2  col3\n",
      "0   NaN   NaN   NaN\n",
      "1   1.0   1.0  -1.0\n",
      "2   1.0   2.0  -1.0\n",
      "3   1.0   4.0  -1.0\n",
      "4   1.0   8.0  -1.0\n",
      "5   1.0  16.0  -1.0\n",
      "6   1.0  32.0  -1.0\n",
      "7   1.0  64.0  -1.0\n"
     ]
    }
   ],
   "source": [
    "print(df.diff(axis=0))\n",
    "#이전 값과의 비교 (value = a_n - a_{n-1})"
   ]
  },
  {
   "cell_type": "code",
   "execution_count": 96,
   "id": "eddb9679",
   "metadata": {},
   "outputs": [
    {
     "name": "stdout",
     "output_type": "stream",
     "text": [
      "   col1   col2  col3\n",
      "0   NaN    NaN   NaN\n",
      "1   NaN    NaN   NaN\n",
      "2   NaN    NaN   NaN\n",
      "3   3.0    7.0  -3.0\n",
      "4   3.0   14.0  -3.0\n",
      "5   3.0   28.0  -3.0\n",
      "6   3.0   56.0  -3.0\n",
      "7   3.0  112.0  -3.0\n",
      "\n",
      "\n",
      "   col1  col2  col3\n",
      "0  -2.0  -3.0   2.0\n",
      "1  -2.0  -6.0   2.0\n",
      "2  -2.0 -12.0   2.0\n",
      "3  -2.0 -24.0   2.0\n",
      "4  -2.0 -48.0   2.0\n",
      "5  -2.0 -96.0   2.0\n",
      "6   NaN   NaN   NaN\n",
      "7   NaN   NaN   NaN\n"
     ]
    }
   ],
   "source": [
    "print(df.diff(axis=0,periods=3)) #n번째 이전 값과 비교\n",
    "print('\\n')\n",
    "print(df.diff(axis=0,periods=-2)) #n번째 이전 값과 비교"
   ]
  },
  {
   "cell_type": "markdown",
   "id": "e6711544",
   "metadata": {},
   "source": [
    "### PCT_CHANGE"
   ]
  },
  {
   "cell_type": "code",
   "execution_count": 99,
   "id": "11788397",
   "metadata": {},
   "outputs": [
    {
     "name": "stdout",
     "output_type": "stream",
     "text": [
      "   col1  col2  col3\n",
      "0     1     1   1.0\n",
      "1     1     2   NaN\n",
      "2     4     4   NaN\n",
      "3     4     8   NaN\n",
      "4     1    16  16.0\n",
      "5     1    32  64.0\n"
     ]
    }
   ],
   "source": [
    "a = [1,1,4,4,1,1]\n",
    "b = [1,2,4,8,16,32]\n",
    "c = [1,np.nan,np.nan,np.nan,16,64]\n",
    "data = {\"col1\":a,\"col2\":b,\"col3\":c}\n",
    "df = pd.DataFrame(data)\n",
    "print(df)"
   ]
  },
  {
   "cell_type": "code",
   "execution_count": 101,
   "id": "c181e865",
   "metadata": {},
   "outputs": [
    {
     "name": "stdout",
     "output_type": "stream",
     "text": [
      "   col1  col2  col3\n",
      "0   NaN   NaN   NaN\n",
      "1  0.00   1.0   0.0\n",
      "2  3.00   1.0   0.0\n",
      "3  0.00   1.0   0.0\n",
      "4 -0.75   1.0  15.0\n",
      "5  0.00   1.0   3.0\n"
     ]
    }
   ],
   "source": [
    "print(df.pct_change())    #이전값을 기준해 얼만큼 변화했는지"
   ]
  },
  {
   "cell_type": "code",
   "execution_count": 103,
   "id": "20a54c83",
   "metadata": {},
   "outputs": [
    {
     "name": "stdout",
     "output_type": "stream",
     "text": [
      "   col1  col2  col3\n",
      "0   NaN   NaN   NaN\n",
      "1  0.00   1.0  15.0\n",
      "2  3.00   1.0   0.0\n",
      "3  0.00   1.0   0.0\n",
      "4 -0.75   1.0   0.0\n",
      "5  0.00   1.0   3.0\n"
     ]
    }
   ],
   "source": [
    "print(df.pct_change(fill_method='bfill')) #nan을 before : 아래의 값으로 대체 (기본값 : ffill : forward)"
   ]
  },
  {
   "cell_type": "code",
   "execution_count": 105,
   "id": "3b789de5",
   "metadata": {},
   "outputs": [
    {
     "name": "stdout",
     "output_type": "stream",
     "text": [
      "   col1  col2  col3\n",
      "0   NaN   NaN   NaN\n",
      "1  0.00   1.0   0.0\n",
      "2  3.00   1.0   0.0\n",
      "3  0.00   1.0   NaN\n",
      "4 -0.75   1.0   NaN\n",
      "5  0.00   1.0   3.0\n"
     ]
    }
   ],
   "source": [
    "print(df.pct_change(limit=2))   #결측치 대체 개수"
   ]
  },
  {
   "cell_type": "markdown",
   "id": "50a58d53",
   "metadata": {},
   "source": [
    "### EXPANDING : 누적 연산"
   ]
  },
  {
   "cell_type": "code",
   "execution_count": 107,
   "id": "f7a1da64",
   "metadata": {},
   "outputs": [
    {
     "name": "stdout",
     "output_type": "stream",
     "text": [
      "      col1  col2\n",
      "row1     1     3\n",
      "row2     2     7\n",
      "row3     3     5\n",
      "row4     4     6\n"
     ]
    }
   ],
   "source": [
    "data = {'col1':[1,2,3,4],'col2':[3,7,5,6]}\n",
    "idx = ['row1','row2','row3','row4']\n",
    "df = pd.DataFrame(data = data, index = idx)\n",
    "print(df)"
   ]
  },
  {
   "cell_type": "code",
   "execution_count": 109,
   "id": "b402a038",
   "metadata": {},
   "outputs": [
    {
     "name": "stdout",
     "output_type": "stream",
     "text": [
      "      col1  col2\n",
      "row1   1.0   3.0\n",
      "row2   3.0  10.0\n",
      "row3   6.0  15.0\n",
      "row4  10.0  21.0\n"
     ]
    }
   ],
   "source": [
    "print(df.expanding().sum())"
   ]
  },
  {
   "cell_type": "code",
   "execution_count": 116,
   "id": "57b6333e",
   "metadata": {},
   "outputs": [],
   "source": [
    "# #numba 이용 연산속도 증가\n",
    "# import numba\n",
    "# print(df.expanding(method='table').sum(engine='numba'))"
   ]
  },
  {
   "cell_type": "markdown",
   "id": "a8004d8d",
   "metadata": {},
   "source": [
    "### Rolling : 현재 행포함 한 윈도우 내의 연산"
   ]
  },
  {
   "cell_type": "code",
   "execution_count": 117,
   "id": "be80460b",
   "metadata": {},
   "outputs": [
    {
     "name": "stdout",
     "output_type": "stream",
     "text": [
      "      col1  col2\n",
      "row1   NaN   NaN\n",
      "row2   NaN   NaN\n",
      "row3   6.0  15.0\n",
      "row4   9.0  18.0\n"
     ]
    }
   ],
   "source": [
    "print(df.rolling(window=3).sum())"
   ]
  },
  {
   "cell_type": "code",
   "execution_count": 118,
   "id": "963f5f22",
   "metadata": {},
   "outputs": [
    {
     "name": "stdout",
     "output_type": "stream",
     "text": [
      "      col1  col2\n",
      "row1   NaN   NaN\n",
      "row2   NaN   NaN\n",
      "row3   NaN   NaN\n",
      "row4   6.0  15.0\n"
     ]
    }
   ],
   "source": [
    "#closed : 범위 (default : right) (both, neither 가능 : 개수 +- 1씩 됨) \n",
    "#center=True : 기준 한 칸씩 위로 이동\n",
    "print(df.rolling(window=3, closed='left').sum())"
   ]
  },
  {
   "cell_type": "code",
   "execution_count": 119,
   "id": "6c400147",
   "metadata": {},
   "outputs": [],
   "source": [
    "#win_type : 가중치\n",
    "#on='col_name' : 다른 column을 기준으로 rolling 수행"
   ]
  },
  {
   "cell_type": "markdown",
   "id": "fd18e19c",
   "metadata": {},
   "source": [
    "### Groupby : 그룹화 연산"
   ]
  },
  {
   "cell_type": "code",
   "execution_count": 120,
   "id": "6ec0aa8a",
   "metadata": {},
   "outputs": [
    {
     "name": "stdout",
     "output_type": "stream",
     "text": [
      "   index  col1  col2  col3\n",
      "0      A     4     3     6\n",
      "1      A     3     4     1\n",
      "2      B     5     1     8\n",
      "3      B     7     2     7\n",
      "4      B     0     4     5\n",
      "5      C     3     5     7\n",
      "6      C     7     3     8\n",
      "7      C     2     5     2\n",
      "8      D     1     5     3\n",
      "9      D     8     8     0\n",
      "10     D     5     5     5\n",
      "11     D     2     3     5\n",
      "12     E     7     8     3\n",
      "13     E     2     3     7\n",
      "14     E     0     8     0\n"
     ]
    }
   ],
   "source": [
    "idx=['A','A','B','B','B','C','C','C','D','D','D','D','E','E','E']\n",
    "col=['col1','col2','col3']\n",
    "data = np.random.randint(0,9,(15,3))\n",
    "df = pd.DataFrame(data=data, index=idx, columns=col).reset_index()\n",
    "print(df)"
   ]
  },
  {
   "cell_type": "code",
   "execution_count": 123,
   "id": "0c18f899",
   "metadata": {},
   "outputs": [
    {
     "name": "stdout",
     "output_type": "stream",
     "text": [
      "       col1      col2      col3\n",
      "index                          \n",
      "A       3.5  3.500000  3.500000\n",
      "B       4.0  2.333333  6.666667\n",
      "C       4.0  4.333333  5.666667\n",
      "D       4.0  5.250000  3.250000\n",
      "E       3.0  6.333333  3.333333\n"
     ]
    }
   ],
   "source": [
    "print(df.groupby('index').mean())\n",
    "#mean, count, agg, apply ..."
   ]
  },
  {
   "cell_type": "code",
   "execution_count": 124,
   "id": "43707310",
   "metadata": {},
   "outputs": [
    {
     "name": "stdout",
     "output_type": "stream",
     "text": [
      "      col1      col2           col3          \n",
      "       sum mean  sum      mean  sum      mean\n",
      "index                                        \n",
      "A        7  3.5    7  3.500000    7  3.500000\n",
      "B       12  4.0    7  2.333333   20  6.666667\n",
      "C       12  4.0   13  4.333333   17  5.666667\n",
      "D       16  4.0   21  5.250000   13  3.250000\n",
      "E        9  3.0   19  6.333333   10  3.333333\n"
     ]
    }
   ],
   "source": [
    "print(df.groupby('index').agg(['sum','mean']))"
   ]
  },
  {
   "cell_type": "markdown",
   "id": "44b2973e",
   "metadata": {},
   "source": [
    "### EWM (지수가중함수) : https://wikidocs.net/152787"
   ]
  },
  {
   "cell_type": "code",
   "execution_count": null,
   "id": "18b79769",
   "metadata": {},
   "outputs": [],
   "source": []
  }
 ],
 "metadata": {
  "kernelspec": {
   "display_name": "Python 3 (ipykernel)",
   "language": "python",
   "name": "python3"
  },
  "language_info": {
   "codemirror_mode": {
    "name": "ipython",
    "version": 3
   },
   "file_extension": ".py",
   "mimetype": "text/x-python",
   "name": "python",
   "nbconvert_exporter": "python",
   "pygments_lexer": "ipython3",
   "version": "3.9.13"
  }
 },
 "nbformat": 4,
 "nbformat_minor": 5
}
